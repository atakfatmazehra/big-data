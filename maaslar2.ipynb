{
  "nbformat": 4,
  "nbformat_minor": 0,
  "metadata": {
    "colab": {
      "name": "maaslar2",
      "provenance": [],
      "authorship_tag": "ABX9TyOTrIGayC0rLyQtcA+Gi5Oq",
      "include_colab_link": true
    },
    "kernelspec": {
      "name": "python3",
      "display_name": "Python 3"
    },
    "language_info": {
      "name": "python"
    }
  },
  "cells": [
    {
      "cell_type": "markdown",
      "metadata": {
        "id": "view-in-github",
        "colab_type": "text"
      },
      "source": [
        "<a href=\"https://colab.research.google.com/github/atakfatmazehra/machine_learning/blob/master/maaslar2.ipynb\" target=\"_parent\"><img src=\"https://colab.research.google.com/assets/colab-badge.svg\" alt=\"Open In Colab\"/></a>"
      ]
    },
    {
      "cell_type": "code",
      "execution_count": null,
      "metadata": {
        "id": "h0NtCKwDZsJG"
      },
      "outputs": [],
      "source": [
        "import numpy as np\n",
        "import matplotlib.pyplot as plt\n",
        "import pandas as pd\n",
        "\n",
        "#--veri yükleme\n",
        "veriler= pd.read_csv(\"maaslar.csv\")\n",
        "print(veriler)\n",
        "\n",
        "#--veriler üzerinde dataframe oluşturduk\n",
        "x= veriler.iloc[:,1:2]\n",
        "y= veriler.iloc[:,2:]\n",
        "#print(x)\n",
        "#print(y)\n",
        "X= x.values\n",
        "Y=y.values\n",
        "\n",
        "#--linear reg yöntemi kullanılıyor\n",
        "from sklearn.linear_model import LinearRegression\n",
        "lin_reg1= LinearRegression()\n",
        "lin_reg1.fit(X,Y) #train, öğrenme işlemi yapar. x'den y'yi öğrenir\n",
        "#fit=train\n",
        "#x.values ve X aynıdır\n",
        "\n",
        "#görselleştirmeeee (scatter/ plot/show)\n",
        "plt.scatter(x.values,y.values, color=\"red\") #lin_regi görselleştirir\n",
        "plt.plot(x, lin_reg1.predict(x), color=\"blue\") # her bir xe karşılık gelen x'i görselleştiricez\n",
        "plt.show()\n",
        "\n",
        "\n",
        "\n",
        "\n",
        "#--polinomal veri tahmini yapılacak. polinomal model kullanılıyor\n",
        "#--2 dereceli oldugu için. birinci x0, ikinci x0x1x2x3, üçüncü x22=4 x52=100\n",
        "from sklearn.preprocessing import PolynomialFeatures\n",
        "poly_reg= PolynomialFeatures(degree=2) #2.dereceden obje oluştur\n",
        "x_poly= poly_reg.fit_transform(x)\n",
        "print(x_poly)\n",
        "#3kolonun carpanlarını öğrenicek\n",
        "lin_reg2= LinearRegression()\n",
        "lin_reg2.fit(x_poly,y)\n",
        "\n",
        "plt.scatter(X,Y,color=\"yellow\")\n",
        "plt.plot(X, lin_reg2.predict(poly_reg.fit_transform(X)), color=\"purple\")#polşnom dönüşümü yapılması lazım\n",
        "plt.show() #2 dereceli bilgileri al ve bizim tablomuzdaki veriler ile eşleştirip çiz\n",
        "#-----------------------------------------\n",
        "\n",
        "\n",
        "\n",
        "#--4 DERECELİ YAPILDI. VE GÖSTERİM DAHA BAŞARILI\n",
        "poly_reg= PolynomialFeatures(degree=4) \n",
        "x_poly= poly_reg.fit_transform(x)\n",
        "print(x_poly)\n",
        "lin_reg3= LinearRegression()\n",
        "lin_reg3.fit(x_poly,y)\n",
        "\n",
        "plt.scatter(X,Y,color=\"yellow\")\n",
        "plt.plot(X, lin_reg3.predict(poly_reg.fit_transform(X)), color=\"purple\")\n",
        "plt.show() \n",
        "#---------------------------------------------\n",
        "\n",
        "#maasları tahmin etme TAHMİNLER\n",
        "#poly_reg ile daha gerçekci ve yaklasık değer gelir\n",
        "print(lin_reg1.predict([[11]]))\n",
        "print(lin_reg3.predict(poly_reg.fit_transform([[6.6]])))\n",
        "\n",
        "\n",
        "from sklearn.preprocessing import StandardScaler\n",
        "\n",
        "cs1= StandardScaler()\n",
        "x_olcekli= cs1.fit_transform(X)\n",
        "cs2=StandardScaler()\n",
        "y_olcekli=cs2.fit_transform(Y)\n",
        "\n",
        "from sklearn.svm import SVR\n",
        "svr_reg = SVR(kernel ='rbf')\n",
        "svr_reg.fit(x_olcekli, y_olcekli)\n",
        "\n",
        "plt.scatter(x_olcekli, y_olcekli, color='red')\n",
        "plt.plot(x_olcekli, svr_reg.predict(x_olcekli),color='blue')\n",
        "\n",
        "\n",
        "print(svr_reg.predict([[11]]))\n",
        "print(svr_reg.predict([[6.6]]))\n",
        "\n",
        "\n",
        "\n",
        "\n",
        "\n",
        "\n",
        "\n"
      ]
    },
    {
      "cell_type": "code",
      "source": [
        ""
      ],
      "metadata": {
        "id": "b1lHlvWCZvXp"
      },
      "execution_count": null,
      "outputs": []
    }
  ]
}