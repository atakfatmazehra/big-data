{
  "nbformat": 4,
  "nbformat_minor": 0,
  "metadata": {
    "colab": {
      "name": "tenis ödevi.ipynb",
      "provenance": [],
      "authorship_tag": "ABX9TyOg8AGfJADQpO/wdk+CObwP",
      "include_colab_link": true
    },
    "kernelspec": {
      "name": "python3",
      "display_name": "Python 3"
    },
    "language_info": {
      "name": "python"
    }
  },
  "cells": [
    {
      "cell_type": "markdown",
      "metadata": {
        "id": "view-in-github",
        "colab_type": "text"
      },
      "source": [
        "<a href=\"https://colab.research.google.com/github/atakfatmazehra/machine_learning/blob/master/tenis_%C3%B6devi.ipynb\" target=\"_parent\"><img src=\"https://colab.research.google.com/assets/colab-badge.svg\" alt=\"Open In Colab\"/></a>"
      ]
    },
    {
      "cell_type": "code",
      "execution_count": null,
      "metadata": {
        "id": "afXFPLmR7hTU"
      },
      "outputs": [],
      "source": [
        "import numpy as np\n",
        "import matplotlib.pyplot as plt\n",
        "import pandas as pd\n",
        "\n",
        "veriler = pd.read_csv(\"odev_tenis.csv\")\n",
        "print(veriler)\n",
        "\n",
        "\n",
        "oyun= veriler.iloc[:,4:5].values\n",
        "print(oyun) #sadece oyun kısmı ekranda\n",
        "from sklearn import preprocessing\n",
        "le= preprocessing.LabelEncoder()\n",
        "oyun[:,-1]= le.fit_transform(veriler.iloc[:,-1])\n",
        "ohe= preprocessing.OneHotEncoder()\n",
        "oyun=ohe.fit_transform(oyun).toarray()\n",
        "print(oyun) #1/0 seklinde iki kolonda\n",
        "\n",
        "\n",
        "c= veriler.iloc[:,-1:].values\n",
        "from sklearn import preprocessing\n",
        "le= preprocessing.LabelEncoder()\n",
        "c[:,-1]= le.fit_transform(veriler.iloc[:,-1])\n",
        "ohe= preprocessing.OneHotEncoder()\n",
        "c= ohe.fit_transform(c).toarray()\n",
        "#print(c)\n",
        "\n",
        "\n",
        "from sklearn.impute import SimpleImputer\n",
        "imputer= SimpleImputer(missing_values=np.nan, strategy='mean')\n",
        "durum= veriler.iloc[:,1:4].values\n",
        "imputer=imputer.fit(durum[:,1:4]) #fit=öğrenme metodudur\n",
        "#sayısal verileri öğren\n",
        "durum[:,1:4]=imputer.transform(durum[:,1:4])\n",
        "durum=veriler.iloc[:,0:1].values\n",
        "from sklearn import preprocessing\n",
        "le= preprocessing.LabelEncoder()\n",
        "durum[:,0]= le.fit_transform(veriler.iloc[:,0])\n",
        "ohe = preprocessing.OneHotEncoder() #ohe= 2li cevirir 0/1 yani\n",
        "durum = ohe.fit_transform(durum).toarray() \n",
        "\n",
        "#VERİLERİN BİRLEŞTİRİLMESİ\n",
        "sonuc = pd.DataFrame(data=durum, index = range(14), columns=[\"overcast\",\"rainy\",\"sunny\"]) #22satırımız oldugu için\n",
        "sonuc2= pd.DataFrame(data=durum, index=range(14), columns=[\"temperature\",\"humidity\",\"windy\"])\n",
        "print(sonuc)\n",
        "print(sonuc2)\n",
        "\n",
        "oyuntek= veriler.iloc[:,-1].values\n",
        "sonsatir= pd.DataFrame(data=c[:,:1], index=range(14), columns=[\"play\"])\n",
        "print(sonsatir)\n",
        "\n",
        "tamsonuc=pd.concat([sonuc,sonuc2], axis=1)\n",
        "tamsonuc2= pd.concat([tamsonuc,sonsatir], axis=1)\n",
        "print(tamsonuc2)"
      ]
    }
  ]
}